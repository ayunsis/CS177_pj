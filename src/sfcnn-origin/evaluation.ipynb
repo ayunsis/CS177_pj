{
 "cells": [
  {
   "cell_type": "code",
   "execution_count": 1,
   "metadata": {},
   "outputs": [],
   "source": [
    "import os\n",
    "import predict\n",
    "import importlib\n",
    "import tensorflow as tf\n",
    "from openbabel import pybel\n",
    "from glob import glob"
   ]
  },
  {
   "cell_type": "code",
   "execution_count": 2,
   "metadata": {},
   "outputs": [],
   "source": [
    "core_dirs = glob(os.path.join('..','CASF-2016','CASF-2016','coreset','*'))\n",
    "core_dirs.sort()\n",
    "core_id = [os.path.split(i)[-1] for i in core_dirs]\n",
    "affinity ={}\n",
    "with open('../INDEX_general_PL_data.2019','r') as f:\n",
    "    for line in f.readlines():\n",
    "        if line[0] != '#':\n",
    "            affinity[line.split()[0]] = line.split()[3]\n",
    "with open('core_affinity.csv', 'w') as f1:\n",
    "    f1.write('pdbid\\taffinity\\n')\n",
    "    for pdbid in core_id:\n",
    "        f1.write(pdbid+'\\t'+affinity[pdbid]+'\\n')  "
   ]
  },
  {
   "cell_type": "code",
   "execution_count": 5,
   "metadata": {},
   "outputs": [],
   "source": [
    "model = predict.build_model()\n",
    "with open('evaluation_docking.csv', 'w') as f1:\n",
    "    f1.write('#code\\tscore\\n')\n",
    "    for pdbid in core_id:\n",
    "        proteinfile = os.path.join('..','CASF-2016','CASF-2016','coreset',pdbid, pdbid+ '_protein.pdb')\n",
    "        ligandfile = os.path.join('..','CASF-2016','CASF-2016','coreset',pdbid, pdbid+'_ligand.mol2')\n",
    "        protein = next(pybel.readfile('pdb',proteinfile))\n",
    "        ligand = next(pybel.readfile('mol2',ligandfile))\n",
    "        result = predict.predict(protein, ligand, model)\n",
    "        f1.write(pdbid+'_ligand\\t%.4f\\n' % result)\n",
    "        \n",
    "#        ligandfile = os.path.join('CASF-2016','CASF-2016','coreset',pdbid, pdbid+'_ligand_opt.mol2')\n",
    "#        ligand = next(pybel.readfile('mol2',ligandfile))\n",
    "#        result = predict.predict(protein, ligand, model)\n",
    "#        f1.write(pdbid+'_ligand_opt\\t%.4f\\n' % result)\n",
    "        \n"
   ]
  },
  {
   "cell_type": "markdown",
   "metadata": {},
   "source": [
    "# casf2013"
   ]
  },
  {
   "cell_type": "code",
   "execution_count": 20,
   "metadata": {},
   "outputs": [],
   "source": [
    "importlib.reload(predict)\n",
    "model = predict.build_model()\n",
    "with open('evaluation_docking_2016.csv', 'w') as f1:\n",
    "    f1.write('ligand\\taffinity\\n')\n",
    "    for pdbid in core_id:\n",
    "        proteinfile = os.path.join('CASF-2016','CASF-2016','coreset',pdbid, pdbid+ '_protein.pdb')\n",
    "        ligandfile = os.path.join('CASF-2016','CASF-2016','coreset',pdbid, pdbid+'_ligand.mol2')\n",
    "        protein = next(pybel.readfile('pdb',proteinfile))\n",
    "        ligand = next(pybel.readfile('mol2',ligandfile))\n",
    "        result = predict.predict(protein, ligand, model)\n",
    "        f1.write(pdbid+'_ligand\\t%.4f\\n' % result)        \n"
   ]
  },
  {
   "cell_type": "code",
   "execution_count": 27,
   "metadata": {},
   "outputs": [],
   "source": [
    "#core_id = a\n",
    "#affinity ={}\n",
    "#with open('INDEX_general_PL_data.2019','r') as f:\n",
    "#    for line in f.readlines():\n",
    "#        if line[0] != '#':\n",
    "#            affinity[line.split()[0]] = line.split()[3]\n",
    "#with open('core_affinity.csv', 'w') as f1:\n",
    "#    f1.write('pdbid\\taffinity\\n')\n",
    "#    for pdbid in core_id:\n",
    "#        f1.write(pdbid+'\\t'+affinity[pdbid]+'\\n')  \n",
    "        \n",
    "        \n",
    "importlib.reload(predict)\n",
    "model = predict.build_model()\n",
    "with open('evaluation_docking_2013.csv', 'w') as f1:\n",
    "    f1.write('ligand\\taffinity\\n')\n",
    "    for pdbid in core_id:\n",
    "        proteinfile = os.path.join('v2013-core',pdbid, pdbid+ '_protein.pdb')\n",
    "        ligandfile = os.path.join('v2013-core',pdbid, pdbid+'_ligand.mol2')\n",
    "        protein = next(pybel.readfile('pdb',proteinfile))\n",
    "        ligand = next(pybel.readfile('mol2',ligandfile))\n",
    "        result = predict.predict(protein, ligand, model)\n",
    "        f1.write(pdbid+'_ligand\\t%.4f\\n' % result)\n"
   ]
  },
  {
   "cell_type": "code",
   "execution_count": 6,
   "metadata": {},
   "outputs": [],
   "source": [
    "import numpy as np\n",
    "import pandas as pd\n",
    "import matplotlib as mpl\n",
    "import matplotlib.pyplot as plt\n",
    "import scipy\n",
    "from sklearn import linear_model\n",
    "from sklearn.metrics import mean_squared_error"
   ]
  },
  {
   "cell_type": "code",
   "execution_count": 28,
   "metadata": {},
   "outputs": [
    {
     "data": {
      "text/html": [
       "<div>\n",
       "<style scoped>\n",
       "    .dataframe tbody tr th:only-of-type {\n",
       "        vertical-align: middle;\n",
       "    }\n",
       "\n",
       "    .dataframe tbody tr th {\n",
       "        vertical-align: top;\n",
       "    }\n",
       "\n",
       "    .dataframe thead th {\n",
       "        text-align: right;\n",
       "    }\n",
       "</style>\n",
       "<table border=\"1\" class=\"dataframe\">\n",
       "  <thead>\n",
       "    <tr style=\"text-align: right;\">\n",
       "      <th></th>\n",
       "      <th>ligand</th>\n",
       "      <th>affinity_x</th>\n",
       "      <th>pdbid</th>\n",
       "      <th>affinity_y</th>\n",
       "    </tr>\n",
       "  </thead>\n",
       "  <tbody>\n",
       "    <tr>\n",
       "      <th>0</th>\n",
       "      <td>1a30_ligand</td>\n",
       "      <td>5.4347</td>\n",
       "      <td>1a30</td>\n",
       "      <td>4.30</td>\n",
       "    </tr>\n",
       "    <tr>\n",
       "      <th>1</th>\n",
       "      <td>1bcu_ligand</td>\n",
       "      <td>4.1086</td>\n",
       "      <td>1bcu</td>\n",
       "      <td>3.28</td>\n",
       "    </tr>\n",
       "    <tr>\n",
       "      <th>2</th>\n",
       "      <td>1e66_ligand</td>\n",
       "      <td>6.9252</td>\n",
       "      <td>1e66</td>\n",
       "      <td>9.89</td>\n",
       "    </tr>\n",
       "    <tr>\n",
       "      <th>3</th>\n",
       "      <td>1gpk_ligand</td>\n",
       "      <td>7.0503</td>\n",
       "      <td>1gpk</td>\n",
       "      <td>5.37</td>\n",
       "    </tr>\n",
       "    <tr>\n",
       "      <th>4</th>\n",
       "      <td>1h23_ligand</td>\n",
       "      <td>8.7580</td>\n",
       "      <td>1h23</td>\n",
       "      <td>8.35</td>\n",
       "    </tr>\n",
       "    <tr>\n",
       "      <th>...</th>\n",
       "      <td>...</td>\n",
       "      <td>...</td>\n",
       "      <td>...</td>\n",
       "      <td>...</td>\n",
       "    </tr>\n",
       "    <tr>\n",
       "      <th>102</th>\n",
       "      <td>4de1_ligand</td>\n",
       "      <td>4.3161</td>\n",
       "      <td>4de1</td>\n",
       "      <td>5.96</td>\n",
       "    </tr>\n",
       "    <tr>\n",
       "      <th>103</th>\n",
       "      <td>4de2_ligand</td>\n",
       "      <td>4.4419</td>\n",
       "      <td>4de2</td>\n",
       "      <td>4.12</td>\n",
       "    </tr>\n",
       "    <tr>\n",
       "      <th>104</th>\n",
       "      <td>4djv_ligand</td>\n",
       "      <td>6.4694</td>\n",
       "      <td>4djv</td>\n",
       "      <td>6.72</td>\n",
       "    </tr>\n",
       "    <tr>\n",
       "      <th>105</th>\n",
       "      <td>4gid_ligand</td>\n",
       "      <td>8.5948</td>\n",
       "      <td>4gid</td>\n",
       "      <td>10.77</td>\n",
       "    </tr>\n",
       "    <tr>\n",
       "      <th>106</th>\n",
       "      <td>4tmn_ligand</td>\n",
       "      <td>6.1534</td>\n",
       "      <td>4tmn</td>\n",
       "      <td>10.17</td>\n",
       "    </tr>\n",
       "  </tbody>\n",
       "</table>\n",
       "<p>107 rows × 4 columns</p>\n",
       "</div>"
      ],
      "text/plain": [
       "          ligand  affinity_x pdbid  affinity_y\n",
       "0    1a30_ligand      5.4347  1a30        4.30\n",
       "1    1bcu_ligand      4.1086  1bcu        3.28\n",
       "2    1e66_ligand      6.9252  1e66        9.89\n",
       "3    1gpk_ligand      7.0503  1gpk        5.37\n",
       "4    1h23_ligand      8.7580  1h23        8.35\n",
       "..           ...         ...   ...         ...\n",
       "102  4de1_ligand      4.3161  4de1        5.96\n",
       "103  4de2_ligand      4.4419  4de2        4.12\n",
       "104  4djv_ligand      6.4694  4djv        6.72\n",
       "105  4gid_ligand      8.5948  4gid       10.77\n",
       "106  4tmn_ligand      6.1534  4tmn       10.17\n",
       "\n",
       "[107 rows x 4 columns]"
      ]
     },
     "execution_count": 28,
     "metadata": {},
     "output_type": "execute_result"
    }
   ],
   "source": [
    "docking=pd.read_csv('evaluation_docking_2013.csv',sep='\\t')\n",
    "df = docking[docking['ligand'].str[5:] == 'ligand']\n",
    "df=df.copy()\n",
    "df['pdbid']=df['ligand'].str[:4]\n",
    "label = pd.read_csv('core_affinity.csv',sep='\\t')\n",
    "df=pd.merge(df,label,on=['pdbid'])\n",
    "df"
   ]
  },
  {
   "cell_type": "code",
   "execution_count": 9,
   "metadata": {},
   "outputs": [
    {
     "data": {
      "text/plain": [
       "<matplotlib.collections.PathCollection at 0x1f051f3e610>"
      ]
     },
     "execution_count": 9,
     "metadata": {},
     "output_type": "execute_result"
    },
    {
     "data": {
      "image/png": "[encoded data removed]",
      "text/plain": [
       "<Figure size 432x288 with 1 Axes>"
      ]
     },
     "metadata": {
      "needs_background": "light"
     },
     "output_type": "display_data"
    }
   ],
   "source": [
    "plt.scatter(df['affinity_x'],df['affinity_y'],marker='o',c='blue',s=50)"
   ]
  },
  {
   "cell_type": "code",
   "execution_count": 12,
   "metadata": {},
   "outputs": [
    {
     "data": {
      "text/html": [
       "<div>\n",
       "<style scoped>\n",
       "    .dataframe tbody tr th:only-of-type {\n",
       "        vertical-align: middle;\n",
       "    }\n",
       "\n",
       "    .dataframe tbody tr th {\n",
       "        vertical-align: top;\n",
       "    }\n",
       "\n",
       "    .dataframe thead th {\n",
       "        text-align: right;\n",
       "    }\n",
       "</style>\n",
       "<table border=\"1\" class=\"dataframe\">\n",
       "  <thead>\n",
       "    <tr style=\"text-align: right;\">\n",
       "      <th></th>\n",
       "      <th>affinity_x</th>\n",
       "      <th>affinity_y</th>\n",
       "    </tr>\n",
       "  </thead>\n",
       "  <tbody>\n",
       "    <tr>\n",
       "      <th>affinity_x</th>\n",
       "      <td>1.000000</td>\n",
       "      <td>0.794588</td>\n",
       "    </tr>\n",
       "    <tr>\n",
       "      <th>affinity_y</th>\n",
       "      <td>0.794588</td>\n",
       "      <td>1.000000</td>\n",
       "    </tr>\n",
       "  </tbody>\n",
       "</table>\n",
       "</div>"
      ],
      "text/plain": [
       "            affinity_x  affinity_y\n",
       "affinity_x    1.000000    0.794588\n",
       "affinity_y    0.794588    1.000000"
      ]
     },
     "execution_count": 12,
     "metadata": {},
     "output_type": "execute_result"
    }
   ],
   "source": [
    "df[['affinity_x','affinity_y']].corr()    ###R"
   ]
  },
  {
   "cell_type": "code",
   "execution_count": 13,
   "metadata": {
    "scrolled": true
   },
   "outputs": [
    {
     "data": {
      "text/plain": [
       "1.4518194791042518"
      ]
     },
     "execution_count": 13,
     "metadata": {},
     "output_type": "execute_result"
    }
   ],
   "source": [
    "np.sqrt(np.mean((df['affinity_x']-df['affinity_y'])**2))    ###rmse"
   ]
  },
  {
   "cell_type": "code",
   "execution_count": 14,
   "metadata": {},
   "outputs": [
    {
     "data": {
      "text/plain": [
       "1.113935514018692"
      ]
     },
     "execution_count": 14,
     "metadata": {},
     "output_type": "execute_result"
    }
   ],
   "source": [
    "np.mean(np.abs(df['affinity_x']-df['affinity_y']))    ###mae"
   ]
  },
  {
   "cell_type": "code",
   "execution_count": 15,
   "metadata": {},
   "outputs": [],
   "source": [
    "regr=linear_model.LinearRegression()\n",
    "x=df['affinity_x'].values.reshape(-1,1)\n",
    "y=df['affinity_y'].values.reshape(-1,1)"
   ]
  },
  {
   "cell_type": "code",
   "execution_count": 16,
   "metadata": {},
   "outputs": [
    {
     "data": {
      "text/plain": [
       "LinearRegression()"
      ]
     },
     "execution_count": 16,
     "metadata": {},
     "output_type": "execute_result"
    }
   ],
   "source": [
    "regr.fit( x  ,  y  )"
   ]
  },
  {
   "cell_type": "code",
   "execution_count": 17,
   "metadata": {},
   "outputs": [],
   "source": [
    "y_ = regr.predict(x)"
   ]
  },
  {
   "cell_type": "code",
   "execution_count": 63,
   "metadata": {},
   "outputs": [
    {
     "data": {
      "text/plain": [
       "(0.7945883503958471, 1.713171212923187e-24)"
      ]
     },
     "execution_count": 63,
     "metadata": {},
     "output_type": "execute_result"
    }
   ],
   "source": [
    "scipy.stats.pearsonr(df['affinity_x'].values,df['affinity_y'].values)"
   ]
  },
  {
   "cell_type": "code",
   "execution_count": 18,
   "metadata": {},
   "outputs": [
    {
     "data": {
      "text/plain": [
       "array([1.4165101])"
      ]
     },
     "execution_count": 18,
     "metadata": {},
     "output_type": "execute_result"
    }
   ],
   "source": [
    "np.sqrt(sum((y-y_)**2)/106)    ###SD"
   ]
  },
  {
   "cell_type": "code",
   "execution_count": 26,
   "metadata": {},
   "outputs": [],
   "source": [
    "core_dirs = glob(os.path.join('CASF-2013','CASF-2013','coreset','*'))\n",
    "core_dirs.sort()\n",
    "core_id = [os.path.split(i)[-1] for i in core_dirs]"
   ]
  },
  {
   "cell_type": "code",
   "execution_count": null,
   "metadata": {},
   "outputs": [],
   "source": [
    "train_dirs = glob(os.path.join('trainset','*'))\n",
    "train_dirs.sort()\n",
    "train_id = [os.path.split(i)[-1] for i in train_dirs]"
   ]
  },
  {
   "cell_type": "markdown",
   "metadata": {},
   "source": [
    "## csaf2016"
   ]
  },
  {
   "cell_type": "code",
   "execution_count": 19,
   "metadata": {},
   "outputs": [],
   "source": [
    "df=pd.read_csv('../2016_x_y.csv')"
   ]
  },
  {
   "cell_type": "code",
   "execution_count": 20,
   "metadata": {},
   "outputs": [
    {
     "data": {
      "text/html": [
       "<div>\n",
       "<style scoped>\n",
       "    .dataframe tbody tr th:only-of-type {\n",
       "        vertical-align: middle;\n",
       "    }\n",
       "\n",
       "    .dataframe tbody tr th {\n",
       "        vertical-align: top;\n",
       "    }\n",
       "\n",
       "    .dataframe thead th {\n",
       "        text-align: right;\n",
       "    }\n",
       "</style>\n",
       "<table border=\"1\" class=\"dataframe\">\n",
       "  <thead>\n",
       "    <tr style=\"text-align: right;\">\n",
       "      <th></th>\n",
       "      <th>pdbid</th>\n",
       "      <th>affinity_x</th>\n",
       "      <th>affinity_y</th>\n",
       "    </tr>\n",
       "  </thead>\n",
       "  <tbody>\n",
       "    <tr>\n",
       "      <th>0</th>\n",
       "      <td>1a30</td>\n",
       "      <td>5.4721</td>\n",
       "      <td>4.30</td>\n",
       "    </tr>\n",
       "    <tr>\n",
       "      <th>1</th>\n",
       "      <td>1bcu</td>\n",
       "      <td>4.0425</td>\n",
       "      <td>3.28</td>\n",
       "    </tr>\n",
       "    <tr>\n",
       "      <th>2</th>\n",
       "      <td>1bzc</td>\n",
       "      <td>5.8201</td>\n",
       "      <td>4.92</td>\n",
       "    </tr>\n",
       "    <tr>\n",
       "      <th>3</th>\n",
       "      <td>1c5z</td>\n",
       "      <td>3.9116</td>\n",
       "      <td>4.01</td>\n",
       "    </tr>\n",
       "    <tr>\n",
       "      <th>4</th>\n",
       "      <td>1e66</td>\n",
       "      <td>7.5716</td>\n",
       "      <td>9.89</td>\n",
       "    </tr>\n",
       "    <tr>\n",
       "      <th>...</th>\n",
       "      <td>...</td>\n",
       "      <td>...</td>\n",
       "      <td>...</td>\n",
       "    </tr>\n",
       "    <tr>\n",
       "      <th>280</th>\n",
       "      <td>5aba</td>\n",
       "      <td>4.1278</td>\n",
       "      <td>2.98</td>\n",
       "    </tr>\n",
       "    <tr>\n",
       "      <th>281</th>\n",
       "      <td>5c28</td>\n",
       "      <td>5.1121</td>\n",
       "      <td>5.66</td>\n",
       "    </tr>\n",
       "    <tr>\n",
       "      <th>282</th>\n",
       "      <td>5c2h</td>\n",
       "      <td>8.3963</td>\n",
       "      <td>11.09</td>\n",
       "    </tr>\n",
       "    <tr>\n",
       "      <th>283</th>\n",
       "      <td>5dwr</td>\n",
       "      <td>9.2049</td>\n",
       "      <td>11.22</td>\n",
       "    </tr>\n",
       "    <tr>\n",
       "      <th>284</th>\n",
       "      <td>5tmn</td>\n",
       "      <td>6.9775</td>\n",
       "      <td>8.04</td>\n",
       "    </tr>\n",
       "  </tbody>\n",
       "</table>\n",
       "<p>285 rows × 3 columns</p>\n",
       "</div>"
      ],
      "text/plain": [
       "    pdbid  affinity_x  affinity_y\n",
       "0    1a30      5.4721        4.30\n",
       "1    1bcu      4.0425        3.28\n",
       "2    1bzc      5.8201        4.92\n",
       "3    1c5z      3.9116        4.01\n",
       "4    1e66      7.5716        9.89\n",
       "..    ...         ...         ...\n",
       "280  5aba      4.1278        2.98\n",
       "281  5c28      5.1121        5.66\n",
       "282  5c2h      8.3963       11.09\n",
       "283  5dwr      9.2049       11.22\n",
       "284  5tmn      6.9775        8.04\n",
       "\n",
       "[285 rows x 3 columns]"
      ]
     },
     "execution_count": 20,
     "metadata": {},
     "output_type": "execute_result"
    }
   ],
   "source": [
    "df"
   ]
  },
  {
   "cell_type": "code",
   "execution_count": 21,
   "metadata": {},
   "outputs": [
    {
     "data": {
      "text/html": [
       "<div>\n",
       "<style scoped>\n",
       "    .dataframe tbody tr th:only-of-type {\n",
       "        vertical-align: middle;\n",
       "    }\n",
       "\n",
       "    .dataframe tbody tr th {\n",
       "        vertical-align: top;\n",
       "    }\n",
       "\n",
       "    .dataframe thead th {\n",
       "        text-align: right;\n",
       "    }\n",
       "</style>\n",
       "<table border=\"1\" class=\"dataframe\">\n",
       "  <thead>\n",
       "    <tr style=\"text-align: right;\">\n",
       "      <th></th>\n",
       "      <th>affinity_x</th>\n",
       "      <th>affinity_y</th>\n",
       "    </tr>\n",
       "  </thead>\n",
       "  <tbody>\n",
       "    <tr>\n",
       "      <th>affinity_x</th>\n",
       "      <td>1.000000</td>\n",
       "      <td>0.792789</td>\n",
       "    </tr>\n",
       "    <tr>\n",
       "      <th>affinity_y</th>\n",
       "      <td>0.792789</td>\n",
       "      <td>1.000000</td>\n",
       "    </tr>\n",
       "  </tbody>\n",
       "</table>\n",
       "</div>"
      ],
      "text/plain": [
       "            affinity_x  affinity_y\n",
       "affinity_x    1.000000    0.792789\n",
       "affinity_y    0.792789    1.000000"
      ]
     },
     "execution_count": 21,
     "metadata": {},
     "output_type": "execute_result"
    }
   ],
   "source": [
    "df[['affinity_x','affinity_y']].corr()    ###R"
   ]
  },
  {
   "cell_type": "code",
   "execution_count": 22,
   "metadata": {},
   "outputs": [
    {
     "data": {
      "text/plain": [
       "1.3262567334485227"
      ]
     },
     "execution_count": 22,
     "metadata": {},
     "output_type": "execute_result"
    }
   ],
   "source": [
    "np.sqrt(np.mean((df['affinity_x']-df['affinity_y'])**2))    ###rmse"
   ]
  },
  {
   "cell_type": "code",
   "execution_count": 23,
   "metadata": {},
   "outputs": [
    {
     "data": {
      "text/plain": [
       "1.027727719298246"
      ]
     },
     "execution_count": 23,
     "metadata": {},
     "output_type": "execute_result"
    }
   ],
   "source": [
    "np.mean(np.abs(df['affinity_x']-df['affinity_y']))    ###mae"
   ]
  },
  {
   "cell_type": "code",
   "execution_count": 24,
   "metadata": {},
   "outputs": [],
   "source": [
    "regr=linear_model.LinearRegression()\n",
    "x=df['affinity_x'].values.reshape(-1,1)\n",
    "y=df['affinity_y'].values.reshape(-1,1)"
   ]
  },
  {
   "cell_type": "code",
   "execution_count": 25,
   "metadata": {},
   "outputs": [
    {
     "data": {
      "text/plain": [
       "LinearRegression()"
      ]
     },
     "execution_count": 25,
     "metadata": {},
     "output_type": "execute_result"
    }
   ],
   "source": [
    "regr.fit( x  ,  y  )"
   ]
  },
  {
   "cell_type": "code",
   "execution_count": 26,
   "metadata": {},
   "outputs": [],
   "source": [
    "y_ = regr.predict(x)"
   ]
  },
  {
   "cell_type": "code",
   "execution_count": 27,
   "metadata": {},
   "outputs": [
    {
     "data": {
      "text/plain": [
       "array([1.32525068])"
      ]
     },
     "execution_count": 27,
     "metadata": {},
     "output_type": "execute_result"
    }
   ],
   "source": [
    "np.sqrt(sum((y-y_)**2)/284)    ###SD"
   ]
  },
  {
   "cell_type": "code",
   "execution_count": null,
   "metadata": {},
   "outputs": [],
   "source": []
  }
 ],
 "metadata": {
  "kernelspec": {
   "display_name": "Python 3 (ipykernel)",
   "language": "python",
   "name": "python3"
  },
  "language_info": {
   "codemirror_mode": {
    "name": "ipython",
    "version": 3
   },
   "file_extension": ".py",
   "mimetype": "text/x-python",
   "name": "python",
   "nbconvert_exporter": "python",
   "pygments_lexer": "ipython3",
   "version": "3.8.11"
  }
 },
 "nbformat": 4,
 "nbformat_minor": 4
}
