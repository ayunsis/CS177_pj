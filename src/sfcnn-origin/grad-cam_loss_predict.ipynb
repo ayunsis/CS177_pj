{
 "cells": [
  {
   "cell_type": "code",
   "execution_count": 1,
   "metadata": {
    "scrolled": true
   },
   "outputs": [],
   "source": [
    "from keras.layers import Conv3D, MaxPooling3D, Dropout, Dense, Flatten, Activation, BatchNormalization\n",
    "from openbabel import pybel\n",
    "import numpy as np\n",
    "import keras\n",
    "import tensorflow as tf\n",
    "import os"
   ]
  },
  {
   "cell_type": "code",
   "execution_count": 2,
   "metadata": {},
   "outputs": [],
   "source": [
    "#Converts the protein-ligand complexes into 3D voxel images. \n",
    "class Feature_extractor():\n",
    "    def __init__(self):\n",
    "        self.atom_codes = {}\n",
    "        #'others' includs metal atoms and B atom. There are few B atoms in protein-ligand complexes. \n",
    "        others = ([3,4,5,11,12,13]+list(range(19,32))+list(range(37,51))+list(range(55,84)))\n",
    "        #C and N atoms can be hybridized in three ways. S atom can be hybridized in two ways. \n",
    "        #Hydrogen atom is also considered for feature extraction.\n",
    "        atom_types = [1,(6,1),(6,2),(6,3),(7,1),(7,2),(7,3),8,15,(16,2),(16,3),34,[9,17,35,53],others]\n",
    "      \n",
    "        for i, j in enumerate(atom_types):\n",
    "            if type(j) is list:\n",
    "                for k in j:\n",
    "                    self.atom_codes[k] = i\n",
    "                \n",
    "            else:\n",
    "                self.atom_codes[j] = i              \n",
    "        \n",
    "        self.sum_atom_types = len(atom_types)\n",
    "        \n",
    "    #Onehot encoding of each atom. The atoms in protein or ligand are treated separately.\n",
    "    def encode(self, atomic_num, molprotein):\n",
    "        encoding = np.zeros(self.sum_atom_types*2)\n",
    "        if molprotein == 1:\n",
    "            encoding[self.atom_codes[atomic_num]] = 1.0\n",
    "        else:\n",
    "            encoding[self.sum_atom_types+self.atom_codes[atomic_num]] = 1.0\n",
    "        \n",
    "        return encoding\n",
    "    \n",
    "    #Get atom coords and atom features from the complexes.   \n",
    "    def get_features(self, molecule, molprotein):\n",
    "        coords = []\n",
    "        features = []\n",
    "            \n",
    "        for atom in molecule:\n",
    "            coords.append(atom.coords)\n",
    "            if atom.atomicnum in [6,7,16]:\n",
    "                atomicnum = (atom.atomicnum,atom.hyb)\n",
    "                features.append(self.encode(atomicnum,molprotein))\n",
    "            else:\n",
    "                features.append(self.encode(atom.atomicnum,molprotein))\n",
    "        \n",
    "        coords = np.array(coords, dtype=np.float32)\n",
    "        features = np.array(features, dtype=np.float32)\n",
    "        \n",
    "        return coords, features  \n",
    "\n",
    "    #Generate 3d grid. Each grid represents a voxel. Each voxel represents the atom in it by onehot encoding of atom type.\n",
    "    def grid(self,coords, features):\n",
    "        assert coords.shape[1] == 3\n",
    "        assert coords.shape[0] == features.shape[0]  \n",
    "\n",
    "        \n",
    "        grid=np.zeros((1,20,20,20,features.shape[1]),dtype=np.float32)\n",
    "        x=y=z=np.array(range(-10,10),dtype=np.float32)+0.5\n",
    "        for i in range(len(coords)):\n",
    "            coord=coords[i]\n",
    "            tmpx=abs(coord[0]-x)\n",
    "            tmpy=abs(coord[1]-y)\n",
    "            tmpz=abs(coord[2]-z)\n",
    "            if np.max(tmpx)<=19.5 and np.max(tmpy)<=19.5 and np.max(tmpz) <=19.5:\n",
    "                grid[0,np.argmin(tmpx),np.argmin(tmpy),np.argmin(tmpz)] += features[i]\n",
    "                    \n",
    "        return grid"
   ]
  },
  {
   "cell_type": "code",
   "execution_count": 3,
   "metadata": {},
   "outputs": [],
   "source": [
    "def get_grid(protein, ligand):\n",
    "    Feature = Feature_extractor()\n",
    "    coords1, features1 = Feature.get_features(protein,1)\n",
    "    coords2, features2 = Feature.get_features(ligand,0)\n",
    "    \n",
    "    center=(np.max(coords2,axis=0)+np.min(coords2,axis=0))/2\n",
    "    coords=np.concatenate([coords1,coords2],axis = 0)\n",
    "    features=np.concatenate([features1,features2],axis = 0)\n",
    "    assert len(coords) == len(features)\n",
    "    coords = coords-center\n",
    "    grid=Feature.grid(coords,features)\n",
    "    \n",
    "    return grid"
   ]
  },
  {
   "cell_type": "code",
   "execution_count": 4,
   "metadata": {},
   "outputs": [],
   "source": [
    "def build_model():\n",
    "    model = keras.Sequential([\n",
    "    Conv3D(7,kernel_size=(1,1,1),input_shape=(20,20,20,28),strides=(1,1,1)),\n",
    "    BatchNormalization(),  \n",
    "    Activation('relu'),\n",
    "    Conv3D(7,kernel_size=(3,3,3)),\n",
    "    BatchNormalization(),  \n",
    "    Activation('relu'),\n",
    "    Conv3D(7,kernel_size=(3,3,3)),\n",
    "    BatchNormalization(),\n",
    "    Activation('relu'),\n",
    "    Conv3D(28,kernel_size=(1,1,1)),\n",
    "    BatchNormalization(),  \n",
    "    Activation('relu'),\n",
    "    Conv3D(56,kernel_size=(3,3,3),padding='same'),\n",
    "    BatchNormalization(),  \n",
    "    Activation('relu'),\n",
    "    MaxPooling3D(pool_size=2),\n",
    "    Conv3D(112,kernel_size=(3,3,3),padding='same'),\n",
    "    BatchNormalization(),  \n",
    "    Activation('relu'),\n",
    "    MaxPooling3D(pool_size=2),\n",
    "    Conv3D(224,kernel_size=(3,3,3),padding='same'),\n",
    "    BatchNormalization(),  \n",
    "    Activation('relu'),\n",
    "    MaxPooling3D(pool_size=2),\n",
    "    Flatten(),\n",
    "    Dense(256),\n",
    "    BatchNormalization(),\n",
    "    Activation('relu'),\n",
    "    Dense(1)])\n",
    "\n",
    "    model.load_weights('weights4_22_112-0.0083.h5')\n",
    "    return model\n",
    "    "
   ]
  },
  {
   "cell_type": "code",
   "execution_count": 5,
   "metadata": {},
   "outputs": [],
   "source": [
    "def predict(protein, ligand, model):\n",
    "    grid = get_grid(protein, ligand)\n",
    "    result = model.predict(grid) * 15\n",
    "    return result"
   ]
  },
  {
   "cell_type": "code",
   "execution_count": 6,
   "metadata": {},
   "outputs": [],
   "source": [
    "model = build_model()"
   ]
  },
  {
   "cell_type": "code",
   "execution_count": 7,
   "metadata": {},
   "outputs": [
    {
     "name": "stdout",
     "output_type": "stream",
     "text": [
      "Model: \"sequential\"\n",
      "_________________________________________________________________\n",
      "Layer (type)                 Output Shape              Param #   \n",
      "=================================================================\n",
      "conv3d (Conv3D)              (None, 20, 20, 20, 7)     203       \n",
      "_________________________________________________________________\n",
      "batch_normalization (BatchNo (None, 20, 20, 20, 7)     28        \n",
      "_________________________________________________________________\n",
      "activation (Activation)      (None, 20, 20, 20, 7)     0         \n",
      "_________________________________________________________________\n",
      "conv3d_1 (Conv3D)            (None, 18, 18, 18, 7)     1330      \n",
      "_________________________________________________________________\n",
      "batch_normalization_1 (Batch (None, 18, 18, 18, 7)     28        \n",
      "_________________________________________________________________\n",
      "activation_1 (Activation)    (None, 18, 18, 18, 7)     0         \n",
      "_________________________________________________________________\n",
      "conv3d_2 (Conv3D)            (None, 16, 16, 16, 7)     1330      \n",
      "_________________________________________________________________\n",
      "batch_normalization_2 (Batch (None, 16, 16, 16, 7)     28        \n",
      "_________________________________________________________________\n",
      "activation_2 (Activation)    (None, 16, 16, 16, 7)     0         \n",
      "_________________________________________________________________\n",
      "conv3d_3 (Conv3D)            (None, 16, 16, 16, 28)    224       \n",
      "_________________________________________________________________\n",
      "batch_normalization_3 (Batch (None, 16, 16, 16, 28)    112       \n",
      "_________________________________________________________________\n",
      "activation_3 (Activation)    (None, 16, 16, 16, 28)    0         \n",
      "_________________________________________________________________\n",
      "conv3d_4 (Conv3D)            (None, 16, 16, 16, 56)    42392     \n",
      "_________________________________________________________________\n",
      "batch_normalization_4 (Batch (None, 16, 16, 16, 56)    224       \n",
      "_________________________________________________________________\n",
      "activation_4 (Activation)    (None, 16, 16, 16, 56)    0         \n",
      "_________________________________________________________________\n",
      "max_pooling3d (MaxPooling3D) (None, 8, 8, 8, 56)       0         \n",
      "_________________________________________________________________\n",
      "conv3d_5 (Conv3D)            (None, 8, 8, 8, 112)      169456    \n",
      "_________________________________________________________________\n",
      "batch_normalization_5 (Batch (None, 8, 8, 8, 112)      448       \n",
      "_________________________________________________________________\n",
      "activation_5 (Activation)    (None, 8, 8, 8, 112)      0         \n",
      "_________________________________________________________________\n",
      "max_pooling3d_1 (MaxPooling3 (None, 4, 4, 4, 112)      0         \n",
      "_________________________________________________________________\n",
      "conv3d_6 (Conv3D)            (None, 4, 4, 4, 224)      677600    \n",
      "_________________________________________________________________\n",
      "batch_normalization_6 (Batch (None, 4, 4, 4, 224)      896       \n",
      "_________________________________________________________________\n",
      "activation_6 (Activation)    (None, 4, 4, 4, 224)      0         \n",
      "_________________________________________________________________\n",
      "max_pooling3d_2 (MaxPooling3 (None, 2, 2, 2, 224)      0         \n",
      "_________________________________________________________________\n",
      "flatten (Flatten)            (None, 1792)              0         \n",
      "_________________________________________________________________\n",
      "dense (Dense)                (None, 256)               459008    \n",
      "_________________________________________________________________\n",
      "batch_normalization_7 (Batch (None, 256)               1024      \n",
      "_________________________________________________________________\n",
      "activation_7 (Activation)    (None, 256)               0         \n",
      "_________________________________________________________________\n",
      "dense_1 (Dense)              (None, 1)                 257       \n",
      "=================================================================\n",
      "Total params: 1,354,588\n",
      "Trainable params: 1,353,194\n",
      "Non-trainable params: 1,394\n",
      "_________________________________________________________________\n"
     ]
    }
   ],
   "source": [
    "model.summary()"
   ]
  },
  {
   "cell_type": "code",
   "execution_count": 8,
   "metadata": {},
   "outputs": [],
   "source": [
    "from IPython.display import Image, display\n",
    "import matplotlib.pyplot as plt\n",
    "import matplotlib.cm as cm"
   ]
  },
  {
   "cell_type": "code",
   "execution_count": 9,
   "metadata": {},
   "outputs": [],
   "source": [
    "last_conv_layer_name = \"activation_6\""
   ]
  },
  {
   "cell_type": "code",
   "execution_count": 10,
   "metadata": {},
   "outputs": [],
   "source": [
    "ligand = next(pybel.readfile('mol2','trainset\\\\1a28\\\\1a28_ligand.mol2'))\n",
    "protein = next(pybel.readfile('pdb','trainset\\\\1a28\\\\1a28_protein.pdb'))"
   ]
  },
  {
   "cell_type": "code",
   "execution_count": 11,
   "metadata": {},
   "outputs": [],
   "source": [
    "grid = get_grid(protein, ligand)"
   ]
  },
  {
   "cell_type": "code",
   "execution_count": 12,
   "metadata": {},
   "outputs": [],
   "source": [
    "grad_model = tf.keras.models.Model(\n",
    "        [model.inputs], [model.get_layer(\"activation_6\").output, model.output]\n",
    "    )"
   ]
  },
  {
   "cell_type": "code",
   "execution_count": 13,
   "metadata": {},
   "outputs": [],
   "source": [
    "with tf.GradientTape() as tape:\n",
    "    last_conv_layer_output, output = grad_model(grid)"
   ]
  },
  {
   "cell_type": "code",
   "execution_count": 14,
   "metadata": {},
   "outputs": [],
   "source": [
    "grads = tape.gradient(output, last_conv_layer_output)"
   ]
  },
  {
   "cell_type": "code",
   "execution_count": 15,
   "metadata": {},
   "outputs": [],
   "source": [
    "pooled_grads = tf.reduce_mean(grads, axis=(0, 1, 2, 3))"
   ]
  },
  {
   "cell_type": "code",
   "execution_count": 16,
   "metadata": {},
   "outputs": [],
   "source": [
    "last_conv_layer_output = last_conv_layer_output[0]"
   ]
  },
  {
   "cell_type": "code",
   "execution_count": 17,
   "metadata": {},
   "outputs": [],
   "source": [
    "heatmap = last_conv_layer_output @ pooled_grads[..., tf.newaxis]"
   ]
  },
  {
   "cell_type": "code",
   "execution_count": 19,
   "metadata": {},
   "outputs": [],
   "source": [
    "heatmap = tf.squeeze(heatmap)"
   ]
  },
  {
   "cell_type": "code",
   "execution_count": 152,
   "metadata": {},
   "outputs": [],
   "source": [
    "heatmap = tf.maximum(heatmap, 0) / tf.math.reduce_max(heatmap)"
   ]
  },
  {
   "cell_type": "code",
   "execution_count": 20,
   "metadata": {},
   "outputs": [],
   "source": [
    "heatmap = heatmap / tf.math.reduce_max(heatmap)"
   ]
  },
  {
   "cell_type": "code",
   "execution_count": 21,
   "metadata": {},
   "outputs": [],
   "source": [
    "heatmap = heatmap.numpy()"
   ]
  },
  {
   "cell_type": "code",
   "execution_count": 22,
   "metadata": {},
   "outputs": [
    {
     "data": {
      "text/plain": [
       "array([[[-0.39248613, -0.4357882 , -0.4137878 , -1.5043266 ],\n",
       "        [ 0.47820115,  0.33769745,  0.36456168, -0.22016513],\n",
       "        [ 0.46069115, -0.53211004, -0.31809974, -0.53125745],\n",
       "        [-0.23529987, -0.957217  , -0.6555989 , -1.0591389 ]],\n",
       "\n",
       "       [[-0.12733781,  0.6390743 ,  0.44865325, -0.7442978 ],\n",
       "        [ 0.33705255,  0.45566487,  0.44803193,  0.13451192],\n",
       "        [ 0.05267283, -0.25774288,  0.64006   , -1.0166458 ],\n",
       "        [ 0.18651274, -0.12751545, -0.2844999 , -1.1745152 ]],\n",
       "\n",
       "       [[-0.5093245 , -0.2558239 ,  0.21839856, -0.82807344],\n",
       "        [-0.94437456,  0.30465683,  0.64415956, -0.21130039],\n",
       "        [-0.00361057,  1.        ,  0.03871335, -0.552239  ],\n",
       "        [-0.43802255, -0.04203737, -0.39058882, -1.810787  ]],\n",
       "\n",
       "       [[-0.47841546, -0.1399935 , -0.27553463, -0.8160459 ],\n",
       "        [-0.39643782,  0.65422636,  0.6199388 , -0.43379897],\n",
       "        [-0.9130659 , -0.06331265, -0.12254246,  0.02393675],\n",
       "        [-1.3012571 , -1.5676879 , -1.4945023 , -1.6407801 ]]],\n",
       "      dtype=float32)"
      ]
     },
     "execution_count": 22,
     "metadata": {},
     "output_type": "execute_result"
    }
   ],
   "source": [
    "heatmap"
   ]
  },
  {
   "cell_type": "code",
   "execution_count": 24,
   "metadata": {},
   "outputs": [],
   "source": [
    "def resize(grid, result_shape):\n",
    "    m1,m2,m3 = grid.shape\n",
    "    n1,n2,n3 = result_shape\n",
    "    result = np.zeros((result_shape))\n",
    "    \n",
    "    g = np.zeros((m1+2,m2+2,m3+2))    #grid_new\n",
    "    for i in range(m1):\n",
    "        for j in range(m2):\n",
    "            for k in range(m3):\n",
    "                g[i+1,j+1,k+1] = grid[i,j,k]\n",
    "    \n",
    "    for i in range(n1):\n",
    "        for j in range(n2):\n",
    "            for k in range(n3):\n",
    "                x = (i+0.5)*m1/n1-0.5+1\n",
    "                y = (j+0.5)*m2/n2-0.5+1\n",
    "                z = (k+0.5)*m3/n3-0.5+1\n",
    "                \n",
    "                u1 = int(x)\n",
    "                v1 = x - u1\n",
    "                u2 = int(y)\n",
    "                v2 = y -u2\n",
    "                u3 = int(z)\n",
    "                v3 = z - u3\n",
    "\n",
    "                f = (1-v1)*(1-v2)*(1-v3)*g[u1,u2,u3] + (1-v1)*(1-v2)*v3*g[u1,u2,u3+1] + (1-v1)*v2*(1-v3)*g[u1,u2+1,u3] + (1-v1)*v2*v3*g[u1,u2+1,u3+1] + v1*(1-v2)*(1-v3)*g[u1+1,u2,u3] + v1*(1-v2)*v3*g[u1+1,u2,u3+1] + v1*v2*(1-v3)*g[u1+1,u2+1,u3] + v1*v2*v3*g[u1+1,u2+1,u3+1]\n",
    "                \n",
    "                result[i,j,k] = f\n",
    "    \n",
    "    return result              \n",
    "                \n",
    "                "
   ]
  },
  {
   "cell_type": "code",
   "execution_count": null,
   "metadata": {},
   "outputs": [],
   "source": [
    "new = resize(heatmap, (20,20,20))"
   ]
  },
  {
   "cell_type": "code",
   "execution_count": 26,
   "metadata": {},
   "outputs": [],
   "source": [
    "import pickle "
   ]
  },
  {
   "cell_type": "code",
   "execution_count": 27,
   "metadata": {},
   "outputs": [],
   "source": [
    "with open('1a28_grid.pkl', 'wb') as f:\n",
    "    pickle.dump(grid,f)"
   ]
  },
  {
   "cell_type": "code",
   "execution_count": 28,
   "metadata": {},
   "outputs": [],
   "source": [
    "with open('1a28_heatmap.pkl', 'wb') as f:\n",
    "    pickle.dump(new,f)"
   ]
  },
  {
   "cell_type": "code",
   "execution_count": 29,
   "metadata": {},
   "outputs": [
    {
     "data": {
      "text/plain": [
       "<matplotlib.image.AxesImage at 0x22e452553a0>"
      ]
     },
     "execution_count": 29,
     "metadata": {},
     "output_type": "execute_result"
    },
    {
     "data": {
      "image/png": "[encoded data removed]",
      "text/plain": [
       "<Figure size 288x288 with 1 Axes>"
      ]
     },
     "metadata": {
      "needs_background": "light"
     },
     "output_type": "display_data"
    }
   ],
   "source": [
    "plt.matshow(heatmap[0])"
   ]
  },
  {
   "cell_type": "code",
   "execution_count": 30,
   "metadata": {},
   "outputs": [
    {
     "data": {
      "text/plain": [
       "<matplotlib.image.AxesImage at 0x22e451365e0>"
      ]
     },
     "execution_count": 30,
     "metadata": {},
     "output_type": "execute_result"
    },
    {
     "data": {
      "image/png": "[encoded data removed]",
      "text/plain": [
       "<Figure size 288x288 with 1 Axes>"
      ]
     },
     "metadata": {
      "needs_background": "light"
     },
     "output_type": "display_data"
    }
   ],
   "source": [
    "plt.matshow(new[0])"
   ]
  },
  {
   "cell_type": "code",
   "execution_count": 11,
   "metadata": {},
   "outputs": [],
   "source": [
    "import numpy as np\n",
    "import pandas as pd\n",
    "import matplotlib.pyplot as plt"
   ]
  },
  {
   "cell_type": "code",
   "execution_count": 46,
   "metadata": {},
   "outputs": [],
   "source": [
    "df = pd.DataFrame(columns = ['Epoch','loss','val_loss'])"
   ]
  },
  {
   "cell_type": "code",
   "execution_count": 47,
   "metadata": {},
   "outputs": [],
   "source": [
    "with open('cnnprerms4_95new2_22.log', 'r') as f:\n",
    "    for line in f.readlines():\n",
    "        if line.startswith('Epoch'):\n",
    "            m = line[5:].strip().split('/')[0]\n",
    "        if line.lstrip().startswith('717/717') and line.find('val_loss') != -1:\n",
    "            i1 = line.find('loss')\n",
    "            i2 = line.find('- mae')\n",
    "            i3 = line.find('val_loss')\n",
    "            i4 = line.find('- val_mae')\n",
    "            n = line[i1+5:i2].strip()\n",
    "            q = line[i3+9:i4].strip()\n",
    "            df.loc[df.shape[0]] = dict(zip(df.columns, [m,n,q]))"
   ]
  },
  {
   "cell_type": "code",
   "execution_count": 50,
   "metadata": {},
   "outputs": [],
   "source": [
    "df.to_csv('cnn2_f1.csv',index=None)"
   ]
  },
  {
   "cell_type": "code",
   "execution_count": null,
   "metadata": {},
   "outputs": [],
   "source": []
  }
 ],
 "metadata": {
  "kernelspec": {
   "display_name": "tensorflow",
   "language": "python",
   "name": "python3"
  },
  "language_info": {
   "codemirror_mode": {
    "name": "ipython",
    "version": 3
   },
   "file_extension": ".py",
   "mimetype": "text/x-python",
   "name": "python",
   "nbconvert_exporter": "python",
   "pygments_lexer": "ipython3",
   "version": "3.11.11"
  }
 },
 "nbformat": 4,
 "nbformat_minor": 4
}
